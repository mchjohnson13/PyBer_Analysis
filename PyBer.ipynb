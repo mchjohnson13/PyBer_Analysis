{
 "cells": [
  {
   "cell_type": "code",
   "execution_count": null,
   "metadata": {},
   "outputs": [],
   "source": [
    "# Import data\n",
    "\n",
    "# Merge dfs\n",
    "\n",
    "# Create a bubble chart (avg fare x number of drivers for each city type)\n",
    "\n",
    "# Determine mean, median, and mode (rides for each city type, avg fares for each city type, drivers for each city type)\n",
    "\n",
    "# Create a pie chart for each city type to show (% total fares, % total rides, % drivers)"
   ]
  }
 ],
 "metadata": {
  "kernelspec": {
   "display_name": "PythonData",
   "language": "python",
   "name": "pythondata"
  },
  "language_info": {
   "codemirror_mode": {
    "name": "ipython",
    "version": 3
   },
   "file_extension": ".py",
   "mimetype": "text/x-python",
   "name": "python",
   "nbconvert_exporter": "python",
   "pygments_lexer": "ipython3",
   "version": "3.7.6"
  }
 },
 "nbformat": 4,
 "nbformat_minor": 4
}
